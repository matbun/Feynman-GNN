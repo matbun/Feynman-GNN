{
 "cells": [
  {
   "attachments": {},
   "cell_type": "markdown",
   "metadata": {},
   "source": [
    "# Generate a dataset of Feynman diagrams as graph\n",
    "\n",
    "This notebook is a \"prettified\" version of `./Notebooks/dataset_builder_v3_0.ipynb`"
   ]
  },
  {
   "cell_type": "code",
   "execution_count": null,
   "metadata": {
    "colab": {
     "base_uri": "https://localhost:8080/"
    },
    "execution": {
     "iopub.execute_input": "2023-05-10T16:15:57.262410Z",
     "iopub.status.busy": "2023-05-10T16:15:57.262148Z",
     "iopub.status.idle": "2023-05-10T16:15:57.580659Z",
     "shell.execute_reply": "2023-05-10T16:15:57.579372Z"
    },
    "id": "fsCicIyyft6Z",
    "outputId": "8139de0b-85e9-4371-dcd5-eff86b98b7bb"
   },
   "outputs": [],
   "source": [
    "%load_ext autoreload\n",
    "%autoreload 2\n",
    "\n",
    "import os\n",
    "import math\n",
    "import numpy as np \n",
    "import pandas as pd\n",
    "\n",
    "# FeyGNN\n",
    "from feygnn.utils import load_yaml"
   ]
  },
  {
   "cell_type": "code",
   "execution_count": null,
   "metadata": {
    "execution": {
     "iopub.execute_input": "2023-05-10T16:15:57.584078Z",
     "iopub.status.busy": "2023-05-10T16:15:57.583742Z",
     "iopub.status.idle": "2023-05-10T16:15:57.596703Z",
     "shell.execute_reply": "2023-05-10T16:15:57.595439Z"
    }
   },
   "outputs": [],
   "source": [
    "# Load configuration file\n",
    "global_config = load_yaml('config.yml')"
   ]
  },
  {
   "attachments": {},
   "cell_type": "markdown",
   "metadata": {
    "id": "z_1n_SHfIu0s"
   },
   "source": [
    "## Plan\n",
    "\n",
    "\n",
    "### Nodes:\n",
    "Node list.\n",
    "\n",
    "* 1 - Internal node\n",
    "* 2 - Initial state nodes\n",
    "* 3 - Final state nodes\n",
    "\n",
    "The intention is to add information about the time direction. Could investigate the effect of including this.\n",
    "\n",
    "e.g. \n",
    "\n",
    "```\n",
    "node_features = [2, 2, 1, 1, 3, 3]\n",
    "```\n",
    "\n",
    "\n",
    "### Edge features/attributes:\n",
    "Each edge comes with a list of features.\n",
    "\n",
    "\\begin{equation}\n",
    "l = \\begin{bmatrix}\n",
    "m, & S, &LI^{W}_3, & LY, &RI^W_3, &RY,  &\\text{red}, &\\text{blue}, &\\text{green},&\\text{anti-red},&\\text{anti-blue},&\\text{anti-green}, &h, & \\mathbf{p}\n",
    "\\end{bmatrix}\n",
    "\\end{equation}\n",
    "\n",
    "Where $m$ is the on-shell mass. Examples of particles.\n",
    "\n",
    "NEED TO CORRECT MY COLOUR EXAMPLES\n",
    "Lepton:\n",
    "\n",
    "\\begin{align}\n",
    "  e^-_\\uparrow &= \\begin{bmatrix}\n",
    "   m_e, & \\frac{1}{2}, & -\\frac{1}{2}, & -1,& 0,& -2, & 0, & +1, & \\mathbf{p}\n",
    "  \\end{bmatrix} \\\\[1em]\n",
    "  e^-_\\downarrow &= \\begin{bmatrix}\n",
    "   m_e, & \\frac{1}{2}, & -\\frac{1}{2}, & -1,& 0,& -2, & 0, & -1, & \\mathbf{p}\n",
    "  \\end{bmatrix}\\\\[1em]\n",
    "  e^+_\\uparrow &= \\begin{bmatrix}\n",
    "    m_e, & \\frac{1}{2}, & 0, &+2, &+\\frac{1}{2}, &+1, & 0, & +1, & \\mathbf{p}\n",
    "  \\end{bmatrix} \\\\[1em]\n",
    "  e^+_\\downarrow &= \\begin{bmatrix}\n",
    "    m_e, & \\frac{1}{2}, & 0, &+2, &+\\frac{1}{2}, &+1, & 0, & -1, & \\mathbf{p}\n",
    "  \\end{bmatrix}\n",
    "\\end{align}\n",
    "\n",
    "Photon:\n",
    "\n",
    "\\begin{align}\n",
    "  \\gamma = \\begin{bmatrix}\n",
    "    0, &1, &0, &0, &0, &0, &0, &h, &\\mathbf{p}\n",
    "  \\end{bmatrix}\n",
    "\\end{align}\n",
    "\n",
    "Colour is the number of colour charges the particle has, e.g. quarks have 1 and gluons have 2\n",
    "\n",
    "\n",
    "### Edge Index (adjacency list):\n",
    "A list of doublets that describe which edges connect to which.\n",
    "\n",
    "e.g.\n",
    "```\n",
    "edge_index = [[1,2],[2,1],[1,3],[3,1]]\n",
    "```"
   ]
  },
  {
   "attachments": {},
   "cell_type": "markdown",
   "metadata": {
    "id": "4Ca0qLjYxzAR"
   },
   "source": [
    "\n",
    "## Define constants\n",
    "\n",
    "Always using natural units in MeV"
   ]
  },
  {
   "cell_type": "code",
   "execution_count": null,
   "metadata": {
    "execution": {
     "iopub.execute_input": "2023-05-10T16:15:57.600229Z",
     "iopub.status.busy": "2023-05-10T16:15:57.599966Z",
     "iopub.status.idle": "2023-05-10T16:15:57.611930Z",
     "shell.execute_reply": "2023-05-10T16:15:57.610953Z"
    },
    "id": "MnsMgCRUx4OX"
   },
   "outputs": [],
   "source": [
    "#lepton masses\n",
    "m_e = 0.5110\n",
    "m_mu = 105.6583755\n",
    "m_tau = 1776\n",
    "\n",
    "#quark masses\n",
    "m_up=2.2\n",
    "m_down=4.7\n",
    "m_charm=1275\n",
    "m_strange=95\n",
    "m_top=172760\n",
    "m_bottom=4180\n",
    "\n",
    "#massive bosons\n",
    "m_W = 80379\n",
    "m_Z = 91187\n",
    "m_H = 125100\n",
    "\n",
    "\n",
    "alpha_QED = 1/137\n",
    "alpha_S = 1\n",
    "alpha_W = 1e-6\n",
    "q_e = np.sqrt(4*np.pi*alpha_QED)\n",
    "num_edge_feat = 9"
   ]
  },
  {
   "attachments": {},
   "cell_type": "markdown",
   "metadata": {
    "id": "mhbFSip-tuY4"
   },
   "source": [
    "## Creating Graph Representation Classes"
   ]
  },
  {
   "cell_type": "code",
   "execution_count": null,
   "metadata": {
    "execution": {
     "iopub.execute_input": "2023-05-10T16:15:57.615129Z",
     "iopub.status.busy": "2023-05-10T16:15:57.614848Z",
     "iopub.status.idle": "2023-05-10T16:15:57.628438Z",
     "shell.execute_reply": "2023-05-10T16:15:57.626970Z"
    },
    "id": "VkAv13BZUw04"
   },
   "outputs": [],
   "source": [
    "def graph_combine(graph1, graph2):\n",
    "  graph2[1][0]=[x+len(graph1[0])-1 for x in graph2[1][0]]\n",
    "  graph2[1][1]=[x+len(graph1[0])-1 for x in graph2[1][1]]\n",
    "\n",
    "  comb_graph = [0,0,0]\n",
    "  nodes = graph1[0]+graph2[0]\n",
    "  edge_index = [graph1[1][0]+graph2[1][0],graph1[1][1]+graph2[1][1]]\n",
    "  edge_feat = graph1[2]+graph2[2]\n",
    "\n",
    "  return [nodes, edge_index, edge_feat]"
   ]
  },
  {
   "cell_type": "code",
   "execution_count": null,
   "metadata": {
    "execution": {
     "iopub.execute_input": "2023-05-10T16:15:57.631832Z",
     "iopub.status.busy": "2023-05-10T16:15:57.631552Z",
     "iopub.status.idle": "2023-05-10T16:15:57.649838Z",
     "shell.execute_reply": "2023-05-10T16:15:57.648616Z"
    },
    "id": "HjKA477zu6D3"
   },
   "outputs": [],
   "source": [
    "class adj_list:\n",
    "    \"\"\"\n",
    "    Class for an directed graph. The global node is the 0th node. \n",
    "    num_nodes should include the global node\n",
    "    \"\"\"\n",
    "    def __init__(self,num_nodes):\n",
    "        self.graphsrc = []\n",
    "        self.graphdest = []\n",
    "        self.num_nodes = num_nodes\n",
    " \n",
    "    def add_edge(self, src, dest):\n",
    "        self.graphsrc += [src]\n",
    "        self.graphdest += [dest]\n",
    "    \n",
    "    def undirected(self):\n",
    "      l = self.graphsrc\n",
    "      self.graphsrc = l + self.graphdest\n",
    "      self.graphdest = self.graphdest + l\n",
    "\n",
    "    def connect_global_node(self):\n",
    "      for i in range(1,self.num_nodes):\n",
    "        self.add_edge(i,0)\n",
    "\n",
    "    def graph_size(self):\n",
    "      \"\"\"\n",
    "      returns the number of edges in the graph. Doubled if self.undirected() has been called\n",
    "      \"\"\"\n",
    "      return len(self.graphsrc)\n",
    "      \n",
    "    # Debug function to print the graph\n",
    "    def print_list(self):\n",
    "        print(self.get_list())\n",
    "\n",
    "    def get_list(self):\n",
    "      return [self.graphsrc,self.graphdest]\n",
    "\n",
    "\n",
    "class Particle:\n",
    "  \"\"\"\n",
    "  edge features vector\n",
    "  l=[m,S,LIW3,LY,RIW3,RY,colour,h]\n",
    "  masses in subsequent classes are given in MeV\n",
    "  \"\"\"\n",
    "  def __init__(self, m: float, S: float, LIW: float, LY: float, RIW: float, RY:float, colour: list = [0,0,0], anti_colour: list = [0,0,0]):\n",
    "    self.LIW=LIW\n",
    "    self.LY=LY\n",
    "    self.RIW=RIW\n",
    "    self.RY=RY\n",
    "\n",
    "    self.feat = [m, S, LIW, LY, RIW, RY, colour[0], colour[1], colour[2], anti_colour[0], anti_colour[1], anti_colour[2]]\n",
    "    \n",
    "  def get_feat(self):\n",
    "    return self.feat\n",
    "  \n",
    "  def anti_particle(self):\n",
    "    self.feat[2] = -self.RIW\n",
    "    self.feat[3] = -self.RY\n",
    "    self.feat[4] = -self.LIW\n",
    "    self.feat[5] = -self.LY\n",
    "\n",
    "  def print_feat(self):\n",
    "    print(self.feat)"
   ]
  },
  {
   "cell_type": "code",
   "execution_count": null,
   "metadata": {
    "colab": {
     "base_uri": "https://localhost:8080/"
    },
    "execution": {
     "iopub.execute_input": "2023-05-10T16:15:57.653045Z",
     "iopub.status.busy": "2023-05-10T16:15:57.652780Z",
     "iopub.status.idle": "2023-05-10T16:15:57.665784Z",
     "shell.execute_reply": "2023-05-10T16:15:57.664817Z"
    },
    "id": "IaoZ-CQ4wBij",
    "outputId": "981e3d75-5ce0-4513-d854-ea43115fe634"
   },
   "outputs": [],
   "source": [
    "#tests\n",
    "graph = adj_list(3)\n",
    "graph.add_edge(1,2)\n",
    "graph.add_edge(2,3)\n",
    "graph.add_edge(3,1)\n",
    "graph.connect_global_node()\n",
    "graph.undirected()\n",
    "graph = graph.print_list()"
   ]
  },
  {
   "attachments": {},
   "cell_type": "markdown",
   "metadata": {
    "id": "tbq1Ewh8v9yV"
   },
   "source": [
    "### Particle classes \n",
    "#### Lepton classes\n",
    "(need to include tau and all neutrinos still)"
   ]
  },
  {
   "cell_type": "code",
   "execution_count": null,
   "metadata": {
    "execution": {
     "iopub.execute_input": "2023-05-10T16:15:57.699423Z",
     "iopub.status.busy": "2023-05-10T16:15:57.699142Z",
     "iopub.status.idle": "2023-05-10T16:15:57.715117Z",
     "shell.execute_reply": "2023-05-10T16:15:57.714086Z"
    },
    "id": "76tcLeHrv9fW"
   },
   "outputs": [],
   "source": [
    "class E_minus(Particle):\n",
    "  \"\"\"\n",
    "  Class to construct the edge feautres of an electron\n",
    "  l=[m,S,IW3,Y,colour,h]\n",
    "  \"\"\"\n",
    "  def __init__(self):\n",
    "    \"\"\"\n",
    "    h = helicity \n",
    "    p = 3-momentum vector\n",
    "    \"\"\"\n",
    "    Particle.__init__(self, m=m_e, S=0.5, LIW=-0.5, LY=-1, RIW=0, RY=-2)\n",
    "\n",
    "class E_plus(Particle):\n",
    "  \"\"\"\n",
    "  Class to construct the edge feautres of a positron\n",
    "  \"\"\"\n",
    "  def __init__(self):\n",
    "    \"\"\"\n",
    "    h = helicity \n",
    "    p = 3-momentum vector\n",
    "    \"\"\"\n",
    "    Particle.__init__(self, m=m_e, S=0.5, LIW=0, LY=2, RIW=0.5, RY=1)\n",
    "\n",
    "class Mu_minus(Particle):\n",
    "  \"\"\"\n",
    "  Class to construct the edge feautres of a muon\n",
    "  l=[m,S,IW3,Y,colour,h,p]\n",
    "  \"\"\"\n",
    "  def __init__(self):\n",
    "    \"\"\"\n",
    "    h = helicity \n",
    "    p = 3-momentum vector\n",
    "    \"\"\"\n",
    "    Particle.__init__(self, m=m_mu, S=0.5, LIW=-0.5, LY=-1, RIW=0, RY=-2)\n",
    "\n",
    "class Mu_plus(Particle):\n",
    "  \"\"\"\n",
    "  Class to construct the edge feautres of an anti-muon\n",
    "  \"\"\"\n",
    "  def __init__(self):\n",
    "    \"\"\"\n",
    "    h = helicity \n",
    "    p = 3-momentum vector\n",
    "    \"\"\"\n",
    "    Particle.__init__(self, m=m_mu, S=0.5, LIW=-0.5, LY=-1, RIW=0, RY=-2)"
   ]
  },
  {
   "cell_type": "code",
   "execution_count": null,
   "metadata": {
    "colab": {
     "base_uri": "https://localhost:8080/"
    },
    "execution": {
     "iopub.execute_input": "2023-05-10T16:15:57.718244Z",
     "iopub.status.busy": "2023-05-10T16:15:57.717981Z",
     "iopub.status.idle": "2023-05-10T16:15:57.729834Z",
     "shell.execute_reply": "2023-05-10T16:15:57.728850Z"
    },
    "id": "F_iWsz45FDvc",
    "outputId": "4b827c05-9c8b-41ef-9b47-cee263ab3d4c"
   },
   "outputs": [],
   "source": [
    "test_particle = Mu_plus()\n",
    "test_particle.print_feat()"
   ]
  },
  {
   "attachments": {},
   "cell_type": "markdown",
   "metadata": {
    "id": "iNKnRBJ9q9GY"
   },
   "source": [
    "#### Quark classes"
   ]
  },
  {
   "cell_type": "code",
   "execution_count": null,
   "metadata": {
    "execution": {
     "iopub.execute_input": "2023-05-10T16:15:57.732940Z",
     "iopub.status.busy": "2023-05-10T16:15:57.732643Z",
     "iopub.status.idle": "2023-05-10T16:15:57.748603Z",
     "shell.execute_reply": "2023-05-10T16:15:57.747387Z"
    },
    "id": "qGg2BiZprAJo"
   },
   "outputs": [],
   "source": [
    "class Up_r(Particle):\n",
    "  \"\"\"\n",
    "  edge features of an up quark\n",
    "  \"\"\"\n",
    "  def __init__(self):\n",
    "    Particle.__init__(self,m=m_up,S=0.5,LIW=0.5,LY=1/3,RIW=0,RY=4/3,colour=[1,0,0])\n",
    "\n",
    "class Down_r(Particle):\n",
    "  \"\"\"\n",
    "  edge features of a down quark\n",
    "  \"\"\"\n",
    "  def __init__(self):\n",
    "    Particle.__init__(self,m=m_down,S=0.5,LIW=-0.5,LY=1/3,RIW=0,RY=-2/3,colour=[1,0,0])\n",
    "\n",
    "class Charm_r(Particle):\n",
    "  \"\"\"\n",
    "  edge features of a charm quark\n",
    "  \"\"\"\n",
    "  def __init__(self):\n",
    "    Particle.__init__(self,m=m_charm,S=0.5,LIW=0.5,LY=1/3,RIW=0,RY=4/3,colour=[1,0,0])\n",
    "\n",
    "class Strange_r(Particle):\n",
    "  \"\"\"\n",
    "  edge features of a strange quark\n",
    "  \"\"\"\n",
    "  def __init__(self):\n",
    "    Particle.__init__(self,m=m_strange,S=0.5,LIW=-0.5,LY=1/3,RIW=0,RY=-2/3,colour=[1,0,0])\n",
    "\n",
    "class Top_r(Particle):\n",
    "  \"\"\"\n",
    "  edge features of a top quark\n",
    "  \"\"\"\n",
    "  def __init__(self):\n",
    "    Particle.__init__(self,m=m_top,S=0.5,LIW=0.5,LY=1/3,RIW=0,RY=4/3,colour=[1,0,0])\n",
    "    \n",
    "class Bottom_r(Particle):\n",
    "  \"\"\"\n",
    "  edge features of a bottom quark\n",
    "  \"\"\"\n",
    "  def __init__(self):\n",
    "    Particle.__init__(self,m=m_bottom,S=0.5,LIW=-0.5,LY=1/3,RIW=0,RY=-2/3,colour=[1,0,0])"
   ]
  },
  {
   "attachments": {},
   "cell_type": "markdown",
   "metadata": {
    "id": "zLAYpE8qwBXl"
   },
   "source": [
    "#### Boson classes"
   ]
  },
  {
   "cell_type": "code",
   "execution_count": null,
   "metadata": {
    "execution": {
     "iopub.execute_input": "2023-05-10T16:15:57.751851Z",
     "iopub.status.busy": "2023-05-10T16:15:57.751603Z",
     "iopub.status.idle": "2023-05-10T16:15:57.767477Z",
     "shell.execute_reply": "2023-05-10T16:15:57.766432Z"
    },
    "id": "m8iNTx0fwD_t"
   },
   "outputs": [],
   "source": [
    "class Photon(Particle):\n",
    "  \"\"\"\n",
    "  edge features of a photon\n",
    "  \"\"\"\n",
    "  def __init__(self):\n",
    "    Particle.__init__(self, m=0, S=1, LIW=0, LY=0, RIW=0, RY=0)\n",
    "\n",
    "class Gluon_rbbar(Particle):\n",
    "  \"\"\"\n",
    "  edge features of a gluon\n",
    "  \"\"\"\n",
    "  def __init__(self):\n",
    "    Particle.__init__(self,m=0,S=1,LIW=0,LY=0,RIW=0,RY=0,colour=[1,0,0],anti_colour=[0,1,0])\n",
    "\n",
    "class W_plus(Particle):\n",
    "  \"\"\"\n",
    "  edge features of W plus boson\n",
    "  \"\"\"\n",
    "  def __init__(self):\n",
    "    Particle.__init__(self,m=m_W,S=1,LIW=1,LY=0,RIW=0,RY=0)\n",
    "\n",
    "class W_minus(Particle):\n",
    "  \"\"\"\n",
    "  edge features of W minus boson\n",
    "  \"\"\"\n",
    "  def __init__(self):\n",
    "    Particle.__init__(self,m=m_W,S=1,LIW=-1,LY=0,RIW=0,RY=0)\n",
    "\n",
    "class Z_0(Particle):\n",
    "  \"\"\"\n",
    "  edge features of Z boson\n",
    "  \"\"\"\n",
    "  def __init__(self):\n",
    "    Particle.__init__(self,m=m_Z,S=1,LIW=0,LY=0,RIW=0,RY=0)\n",
    "    \n",
    "class Higgs(Particle):\n",
    "  \"\"\"\n",
    "  edge features of W plus boson\n",
    "  \"\"\"\n",
    "  def __init__(self):\n",
    "    Particle.__init__(self,m=m_H,S=0,LIW=-0.5,LY=1,RIW=0,RY=0)"
   ]
  },
  {
   "attachments": {},
   "cell_type": "markdown",
   "metadata": {
    "id": "gTGhAwmMA__Q"
   },
   "source": [
    "### Diagram structures"
   ]
  },
  {
   "attachments": {},
   "cell_type": "markdown",
   "metadata": {
    "id": "GdN39-cWBEa-"
   },
   "source": [
    "#### s-channel"
   ]
  },
  {
   "cell_type": "code",
   "execution_count": null,
   "metadata": {
    "execution": {
     "iopub.execute_input": "2023-05-10T16:15:57.770865Z",
     "iopub.status.busy": "2023-05-10T16:15:57.770604Z",
     "iopub.status.idle": "2023-05-10T16:15:57.784640Z",
     "shell.execute_reply": "2023-05-10T16:15:57.783303Z"
    },
    "id": "_GFKMeq5BQlG"
   },
   "outputs": [],
   "source": [
    "def s_channel():\n",
    "  initial = [1,0,0]\n",
    "  virtual = [0,1,0]\n",
    "  final = [0,0,1]\n",
    "\n",
    "  #Global node (I happen to be lucky in that these are the same size, 3)\n",
    "  global_node = [alpha_QED,alpha_W,alpha_S]\n",
    "\n",
    "  #Node features\n",
    "  node_features = [global_node, initial, initial, virtual, virtual, final, final]\n",
    "  num_nodes=len(node_features)\n",
    "\n",
    "  #Adjacency lists. The order in which the first and last two nodes are added IS IMPORTANT. initial_1 = node 1. final_5=node 5 etc\n",
    "  s_chan = adj_list(num_nodes)\n",
    "  s_chan.add_edge(1,3) #must connect to first initial state\n",
    "  s_chan.add_edge(2,3) #must connect to second initial state\n",
    "  s_chan.add_edge(3,4)\n",
    "  s_chan.add_edge(4,5) #must connect to first final state\n",
    "  s_chan.add_edge(4,6) #must connect to second final state\n",
    "\n",
    "  edge_index = s_chan\n",
    "\n",
    "  return node_features, edge_index"
   ]
  },
  {
   "attachments": {},
   "cell_type": "markdown",
   "metadata": {
    "id": "h0sC2E2wBGXt"
   },
   "source": [
    "#### t-channel"
   ]
  },
  {
   "cell_type": "code",
   "execution_count": null,
   "metadata": {
    "execution": {
     "iopub.execute_input": "2023-05-10T16:15:57.788040Z",
     "iopub.status.busy": "2023-05-10T16:15:57.787773Z",
     "iopub.status.idle": "2023-05-10T16:15:57.801636Z",
     "shell.execute_reply": "2023-05-10T16:15:57.800631Z"
    },
    "id": "eKArULpjM-z2"
   },
   "outputs": [],
   "source": [
    "def t_channel():\n",
    "  initial = [1,0,0]\n",
    "  virtual = [0,1,0]\n",
    "  final = [0,0,1]\n",
    "\n",
    "  #Global node\n",
    "  global_node = [alpha_QED,alpha_W,alpha_S]\n",
    "\n",
    "  #Node features\n",
    "  node_features = [global_node, initial, initial, virtual, virtual, final, final]\n",
    "  num_nodes= len(node_features)\n",
    "\n",
    "  #Adjacency lists\n",
    "  t_chan = adj_list(num_nodes)\n",
    "  t_chan.add_edge(1,3)\n",
    "  t_chan.add_edge(2,4)\n",
    "  t_chan.add_edge(3,4)\n",
    "  t_chan.add_edge(3,5)\n",
    "  t_chan.add_edge(4,6)\n",
    "\n",
    "  edge_index = t_chan\n",
    "\n",
    "  return node_features, edge_index"
   ]
  },
  {
   "attachments": {},
   "cell_type": "markdown",
   "metadata": {
    "id": "lH2cwY52NvS-"
   },
   "source": [
    "#### u-channel"
   ]
  },
  {
   "cell_type": "code",
   "execution_count": null,
   "metadata": {
    "execution": {
     "iopub.execute_input": "2023-05-10T16:15:57.804970Z",
     "iopub.status.busy": "2023-05-10T16:15:57.804664Z",
     "iopub.status.idle": "2023-05-10T16:15:57.818216Z",
     "shell.execute_reply": "2023-05-10T16:15:57.816803Z"
    },
    "id": "-ziuodPVNxml"
   },
   "outputs": [],
   "source": [
    "def u_channel():\n",
    "  initial = [1,0,0]\n",
    "  virtual = [0,1,0]\n",
    "  final = [0,0,1]\n",
    "\n",
    "  #Global node\n",
    "  global_node = [alpha_QED,alpha_W,alpha_S]\n",
    "\n",
    "  #Node features\n",
    "  node_features = [global_node, initial, initial, virtual, virtual, final, final]\n",
    "  num_nodes = len(node_features)\n",
    "  \n",
    "  #Adjacency lists\n",
    "  u_chan = adj_list(num_nodes)\n",
    "  u_chan.add_edge(1,3)\n",
    "  u_chan.add_edge(2,4)\n",
    "  u_chan.add_edge(3,4)\n",
    "  u_chan.add_edge(3,6) #in the u-channel, the first initial state connects to the first final state\n",
    "\n",
    "  edge_index = u_chan\n",
    "\n",
    "  return node_features, edge_index"
   ]
  },
  {
   "attachments": {},
   "cell_type": "markdown",
   "metadata": {
    "id": "Dm0H7H9ix2t-"
   },
   "source": [
    "## Feynman Diagram builder\n",
    "\n",
    "A function to create a list of all possible diagrams\n",
    "\n",
    "1.   Takes in initial and final particle states\n",
    "2.   Iterates over diagram structures (s,t,u for tree level)\n",
    "3.   Iterates over vertices\n",
    "4.   Removes diagrams that don't follow conservation rules\n",
    "\n",
    "\n",
    "\n"
   ]
  },
  {
   "attachments": {},
   "cell_type": "markdown",
   "metadata": {
    "id": "UWSuPWmZIo0w"
   },
   "source": [
    "## Create Tree-level QED Dataset\n",
    "\n",
    "We start with simple electron positron to muon antimuon QED tree level scattering. This removes the need for the t-channel diagram. And we only need to consider the s-channel diagram.\n",
    "\n",
    "The structure is to create a list for each of the features.\n",
    "\n",
    "Then create a list of lists to represent the data for a singular graph\n",
    "\n",
    "Then create a stacked list of lists of lists to represent the full dataset which then gets passed to `pandas.dataframe`\n",
    "\n",
    "As a numpy array, this will be a 2D array (num_graphs, num_feature_type) with the objects as lists.\n",
    "\n",
    "I first give the 4 non-zero matrix elements and then include two that are zero."
   ]
  },
  {
   "cell_type": "code",
   "execution_count": null,
   "metadata": {
    "execution": {
     "iopub.execute_input": "2023-05-10T16:15:57.821874Z",
     "iopub.status.busy": "2023-05-10T16:15:57.821599Z",
     "iopub.status.idle": "2023-05-10T16:15:57.837673Z",
     "shell.execute_reply": "2023-05-10T16:15:57.836678Z"
    },
    "id": "sZsWGoth43n6"
   },
   "outputs": [],
   "source": [
    "def vertex_check(vertex, edge_feat, edge_index):\n",
    "  \"\"\"\n",
    "  Function that returns a true or false based on whether quantities are conserved at the specified vertex\n",
    "  \"\"\"\n",
    "  #incoming indices since edge_index[1] are the destinations\n",
    "  inc_indices = [k for k,x in enumerate(edge_index[1]) if x==vertex]\n",
    "  inc_edges=[0]*len(edge_feat[0])\n",
    "  for n in inc_indices:\n",
    "    inc_edges = [sum(value) for value in zip(edge_feat[n], inc_edges)]\n",
    "\n",
    "  #outgoing indices since edge_index[0] are the sources\n",
    "  out_indices = [k for k,x in enumerate(edge_index[0]) if x==vertex]\n",
    "  out_edges=[0]*len(edge_feat[0])\n",
    "  for n in out_indices:\n",
    "    out_edges = [sum(value) for value in zip(edge_feat[n], out_edges)]\n",
    "  \n",
    "  current = [sum(value) for value in zip(inc_edges, [-x for x in out_edges])]\n",
    "  conservation=[current[2]+0.5*current[3], #Left charge, weak isospin - 1/2 left hypercharge\n",
    "                current[4]+0.5*current[5], #\"\" for the right chiral\n",
    "                current[6]-current[9], # red colour charge conservation (red - anti-red)\n",
    "                current[7]-current[10], #blue colour charge conservation (blue - anti-blue)\n",
    "                current[8]-current[11], #green \"\"\n",
    "  ]\n",
    "  return all(float(charge)==0.0 for charge in conservation)"
   ]
  },
  {
   "cell_type": "code",
   "execution_count": null,
   "metadata": {
    "execution": {
     "iopub.execute_input": "2023-05-10T16:15:57.841067Z",
     "iopub.status.busy": "2023-05-10T16:15:57.840766Z",
     "iopub.status.idle": "2023-05-10T16:15:57.858007Z",
     "shell.execute_reply": "2023-05-10T16:15:57.856976Z"
    },
    "id": "CG7CRuybqLsy"
   },
   "outputs": [],
   "source": [
    "def diagram_builder(initial_0, initial_1, final_4, final_5,channel,global_connect: bool):\n",
    "  \"\"\"\n",
    "  Function to make return all possbile diagrams with initial and final states given\n",
    "  Returns a list allowed graphs, which consist of Feyn_vertex, edge_index and edge_feat\n",
    "  Changes: should allow feynman diagrams with False to be returned but force them to have matrix element 0; exclude certain vertices e.g. connecting electron to muon\n",
    "  \"\"\"\n",
    "  Feyn_vertex, adj_class = channel\n",
    "  num_edges = adj_class.graph_size()\n",
    "  edge_index = adj_class.get_list()\n",
    "  #check to see if process is kinematically allowed by conserving energy, helicity and momentum (need to add)\n",
    "\n",
    "  #Given edge features\n",
    "  incoming_0 = initial_0.get_feat()\n",
    "  incoming_1 = initial_1.get_feat()\n",
    "  outgoing_4 = final_4.get_feat()\n",
    "  outgoing_5 = final_5.get_feat()\n",
    "\n",
    "  #make empty edge feature list for directed graph\n",
    "  edge_feat = [0]*num_edges\n",
    "\n",
    "  #assign initial and final edge feats. NEED TO CHANGE THIS TO SEARCH FOR INIT AND FINAL NODES AS THE INDICES\n",
    "  edge_feat[0] = incoming_0\n",
    "  edge_feat[1] = incoming_1\n",
    "  edge_feat[-2] = outgoing_4\n",
    "  edge_feat[-1] = outgoing_5\n",
    "\n",
    "  #create a list of allowed edges to insert between virtual nodes\n",
    "  graphs = []\n",
    "  propagators = []\n",
    "  edge_position = []\n",
    "  for i in range(len(edge_index[0])): #len(edge_index[0] is the number of edges)\n",
    "    #look for virtual nodes connected to virtual nodes\n",
    "    if Feyn_vertex[edge_index[0][i]] == [0,1,0] and Feyn_vertex[edge_index[1][i]] == [0,1,0]: #1-hot encoding for virtual nodes \n",
    "      #cycle through list of bosons (just photons for now)\n",
    "      edge_feat[i]=Photon().get_feat()\n",
    "      if vertex_check(edge_index[0][i],edge_feat,edge_index):\n",
    "        propagators.append(edge_feat[i])\n",
    "        edge_position.append(i)\n",
    "      if not propagators: #checks to see if the list is empty\n",
    "        return []\n",
    "      \n",
    "  #cycle through edge_position\n",
    "  \"\"\"\n",
    "  look at edge positions, take all the indices in edge positions\n",
    "  make lists for each \n",
    "  \"\"\"\n",
    "\n",
    "  #Connect the global node and make the graph undirected\n",
    "  if global_connect == True:\n",
    "    adj_class.connect_global_node()\n",
    "\n",
    "    #add global node edge features\n",
    "    num_nodes = len(Feyn_vertex) #including super node\n",
    "    for i in range(1,num_nodes):\n",
    "      global_edge_features=[0]*len(edge_feat[0])\n",
    "      edge_feat.append(global_edge_features)\n",
    "\n",
    "  adj_class.undirected()\n",
    "  edge_index = adj_class.get_list()\n",
    "\n",
    "  #make the features undirected\n",
    "  edge_feat += edge_feat\n",
    "  graphs.append([Feyn_vertex,edge_index,edge_feat])\n",
    "\n",
    "  return graphs[0]"
   ]
  },
  {
   "cell_type": "code",
   "execution_count": null,
   "metadata": {
    "execution": {
     "iopub.execute_input": "2023-05-10T16:15:57.861544Z",
     "iopub.status.busy": "2023-05-10T16:15:57.861225Z",
     "iopub.status.idle": "2023-05-10T16:15:57.876575Z",
     "shell.execute_reply": "2023-05-10T16:15:57.875673Z"
    },
    "id": "0HUgXF2ZaoBt"
   },
   "outputs": [],
   "source": [
    "def dataframe_builder(theta_min,ang_res,p_res,p_min,p_max,Mfi_squared,graph):\n",
    "  #Setup: First make the dataframe a long list of arrays. 20,000 data points\n",
    "  momenta_range=np.linspace(p_min, p_max, p_res) \n",
    "  dataframe = np.empty(shape=(ang_res*p_res,6),dtype=object)\n",
    "\n",
    "  #Index to count the graph number\n",
    "  graph_count=0\n",
    "\n",
    "  for p in momenta_range:\n",
    "    for theta in np.linspace(theta_min,np.pi,ang_res):\n",
    "\n",
    "      #Graph-level target\n",
    "      target = Mfi_squared(p,theta)\n",
    "\n",
    "      #Create the dataframe as an numpy array first. Need to add a way to handle empty graphs\n",
    "      dataframe[graph_count,0]=graph[0]\n",
    "      dataframe[graph_count,1]=graph[1]\n",
    "      dataframe[graph_count,2]=graph[2]\n",
    "      dataframe[graph_count,3]=target\n",
    "      dataframe[graph_count,4]=p\n",
    "      dataframe[graph_count,5]=theta\n",
    "\n",
    "      #increment the index\n",
    "      graph_count += 1\n",
    "\n",
    "  dataframe = pd.DataFrame(dataframe, columns=['x','edge_index','edge_attr','y','p','theta'], index=np.arange(0,dataframe.shape[0],1))\n",
    "  dataframe['y_scaler'] = dataframe['y'].max()\n",
    "  dataframe['p_scaler'] = dataframe['p'].max()\n",
    "  dataframe['y_norm'] = dataframe['y']/dataframe['y'].max()\n",
    "  dataframe['p_norm'] = dataframe['p']/dataframe['p'].max()\n",
    "  return dataframe"
   ]
  },
  {
   "attachments": {},
   "cell_type": "markdown",
   "metadata": {
    "id": "OIQPpkAokzY6"
   },
   "source": [
    "### Create a dataset without the global node connected"
   ]
  },
  {
   "cell_type": "code",
   "execution_count": null,
   "metadata": {
    "execution": {
     "iopub.execute_input": "2023-05-10T16:15:57.880241Z",
     "iopub.status.busy": "2023-05-10T16:15:57.879916Z",
     "iopub.status.idle": "2023-05-10T16:15:57.902428Z",
     "shell.execute_reply": "2023-05-10T16:15:57.901411Z"
    },
    "id": "YhovoGfsKKPL"
   },
   "outputs": [],
   "source": [
    "#write the matrix element as a function\n",
    "def Mfi_squared(p, theta):\n",
    "  return ((q_e**2*(1+np.cos(theta)))**2+(q_e**2*(1-np.cos(theta)))**2)/2\n",
    "\n",
    "graph = diagram_builder(E_minus(),E_plus(),Mu_minus(),Mu_plus(),s_channel(),False)\n",
    "df_e_annih_no_global = dataframe_builder(0,ang_res=200,p_res=10,p_min=10**3,p_max=10**5,Mfi_squared=Mfi_squared,graph=graph)"
   ]
  },
  {
   "cell_type": "code",
   "execution_count": null,
   "metadata": {
    "execution": {
     "iopub.execute_input": "2023-05-10T16:15:57.905837Z",
     "iopub.status.busy": "2023-05-10T16:15:57.905561Z",
     "iopub.status.idle": "2023-05-10T16:15:58.005489Z",
     "shell.execute_reply": "2023-05-10T16:15:58.004565Z"
    },
    "id": "64qW1xR3KKPM"
   },
   "outputs": [],
   "source": [
    "#save the file\n",
    "filepath = global_config['raw_dataset_root']\n",
    "os.makedirs(filepath, exist_ok=True)\n",
    "df_e_annih_no_global.to_csv(path_or_buf=os.path.join(filepath, global_config['datasets']['QED_data_e_annih_mu_no_global']))"
   ]
  },
  {
   "attachments": {},
   "cell_type": "markdown",
   "metadata": {
    "id": "b7dM5KKiJJ_C"
   },
   "source": [
    "### Create a dataset with global/super node"
   ]
  },
  {
   "cell_type": "code",
   "execution_count": null,
   "metadata": {
    "execution": {
     "iopub.execute_input": "2023-05-10T16:15:58.008938Z",
     "iopub.status.busy": "2023-05-10T16:15:58.008633Z",
     "iopub.status.idle": "2023-05-10T16:15:58.063086Z",
     "shell.execute_reply": "2023-05-10T16:15:58.061870Z"
    },
    "id": "5It01hC-OSpZ"
   },
   "outputs": [],
   "source": [
    "#write the matrix element as a function\n",
    "def Mfi_squared(p,theta):\n",
    "  return ((q_e**2*(1+np.cos(theta)))**2+(q_e**2*(1-np.cos(theta)))**2)/2\n",
    "\n",
    "graph = diagram_builder(E_minus(),E_plus(),Mu_minus(),Mu_plus(),s_channel(),True)\n",
    "df_e_annih = dataframe_builder(0,ang_res=100,p_res=100,p_min=10**3,p_max=10**5,Mfi_squared=Mfi_squared,graph=graph)"
   ]
  },
  {
   "cell_type": "code",
   "execution_count": null,
   "metadata": {
    "execution": {
     "iopub.execute_input": "2023-05-10T16:15:58.066720Z",
     "iopub.status.busy": "2023-05-10T16:15:58.066400Z",
     "iopub.status.idle": "2023-05-10T16:15:58.748835Z",
     "shell.execute_reply": "2023-05-10T16:15:58.747767Z"
    },
    "id": "QkieLOomjD5T"
   },
   "outputs": [],
   "source": [
    "#save the file\n",
    "df_e_annih_mu = df_e_annih\n",
    "filepath = global_config['raw_dataset_root']\n",
    "os.makedirs(filepath, exist_ok=True)  \n",
    "df_e_annih_mu.to_csv(path_or_buf=os.path.join(filepath, global_config['datasets']['QED_data_e_annih_mu']))"
   ]
  },
  {
   "cell_type": "code",
   "execution_count": null,
   "metadata": {
    "colab": {
     "base_uri": "https://localhost:8080/",
     "height": 388
    },
    "execution": {
     "iopub.execute_input": "2023-05-10T16:15:58.752653Z",
     "iopub.status.busy": "2023-05-10T16:15:58.752327Z",
     "iopub.status.idle": "2023-05-10T16:15:59.429922Z",
     "shell.execute_reply": "2023-05-10T16:15:59.428638Z"
    },
    "id": "0x0aD3SBNvWc",
    "outputId": "c7a01ee6-ba62-40b7-fc62-2cf98e45b8c9"
   },
   "outputs": [],
   "source": [
    "df_e_annih_mu.plot('theta','y',kind='scatter')"
   ]
  },
  {
   "attachments": {},
   "cell_type": "markdown",
   "metadata": {
    "id": "n-tD7CgXQoFQ"
   },
   "source": [
    "### Extending the dataset\n",
    "\n",
    "Repeating for \n",
    "$$e^-e^+\\to e^-e^+$$\n",
    "\n",
    "This requires the inclusion of the t-channel diagrams"
   ]
  },
  {
   "cell_type": "code",
   "execution_count": null,
   "metadata": {
    "execution": {
     "iopub.execute_input": "2023-05-10T16:15:59.433968Z",
     "iopub.status.busy": "2023-05-10T16:15:59.433553Z",
     "iopub.status.idle": "2023-05-10T16:15:59.505785Z",
     "shell.execute_reply": "2023-05-10T16:15:59.504260Z"
    },
    "id": "qataaQXvUScP"
   },
   "outputs": [],
   "source": [
    "def Mfi_squared(p,theta):\n",
    "  \"\"\"\n",
    "  s = p_1^2 + p_2^2 + 2p_1p_2\n",
    "  t = p_1^2 + p_3^2 - 2p_1p_3\n",
    "  \"\"\"\n",
    "  s = 4*(m_e**2+p**2)\n",
    "  t = 2*m_e**2 - 2*p**2*(1-math.cos(theta))\n",
    "  u = 2*m_e**2 - 2*p**2*(1+math.cos(theta))\n",
    "  return 2*q_e**4*((u**2+t**2)/s**2+(u**2+s**2)/t**2 + 2*u**2/(s*t)) #8*(q_e**4)*(s**4+t**4+u**4)/(4*s**2*t**2)\n",
    "graph_t = diagram_builder(E_minus(),E_plus(),E_minus(),E_plus(),t_channel(),True)\n",
    "graph_s = diagram_builder(E_minus(),E_plus(),E_minus(),E_plus(),s_channel(),True)\n",
    "graph = graph_combine(graph_s,graph_t)\n",
    "df = dataframe_builder(0.5,ang_res=100,p_res=100,p_min=10**3,p_max=10**5,Mfi_squared=Mfi_squared,graph=graph)\n",
    "df_e_annih_e = df\n",
    "df_e_annih = pd.concat([df_e_annih,df],ignore_index=True)"
   ]
  },
  {
   "cell_type": "code",
   "execution_count": null,
   "metadata": {
    "execution": {
     "iopub.execute_input": "2023-05-10T16:15:59.509493Z",
     "iopub.status.busy": "2023-05-10T16:15:59.509183Z",
     "iopub.status.idle": "2023-05-10T16:16:03.274203Z",
     "shell.execute_reply": "2023-05-10T16:16:03.272842Z"
    },
    "id": "xngdz9HKVZBu"
   },
   "outputs": [],
   "source": [
    "#save the file\n",
    "filepath = global_config['raw_dataset_root']\n",
    "os.makedirs(filepath, exist_ok=True)\n",
    "\n",
    "# This creates two additional .csv files\n",
    "df_e_annih_e.to_csv(path_or_buf=os.path.join(filepath, global_config['datasets']['QED_data_e_annih_e']))\n",
    "df_e_annih.to_csv(path_or_buf=os.path.join(filepath, global_config['datasets']['QED_data_e_annih']))"
   ]
  },
  {
   "cell_type": "code",
   "execution_count": null,
   "metadata": {
    "colab": {
     "base_uri": "https://localhost:8080/",
     "height": 388
    },
    "execution": {
     "iopub.execute_input": "2023-05-10T16:16:03.279277Z",
     "iopub.status.busy": "2023-05-10T16:16:03.278133Z",
     "iopub.status.idle": "2023-05-10T16:16:03.601239Z",
     "shell.execute_reply": "2023-05-10T16:16:03.599962Z"
    },
    "id": "dJy_wzhd-mGr",
    "outputId": "1b3853a1-2b5d-4358-f38c-dd32ef1ecf38"
   },
   "outputs": [],
   "source": [
    "df_e_annih.plot('theta','y_norm',kind='scatter')"
   ]
  },
  {
   "attachments": {},
   "cell_type": "markdown",
   "metadata": {
    "id": "hkMqzMcUalXJ"
   },
   "source": [
    "### Testing Sampling"
   ]
  },
  {
   "cell_type": "code",
   "execution_count": null,
   "metadata": {
    "execution": {
     "iopub.execute_input": "2023-05-10T16:16:03.605106Z",
     "iopub.status.busy": "2023-05-10T16:16:03.604730Z",
     "iopub.status.idle": "2023-05-10T16:16:03.763810Z",
     "shell.execute_reply": "2023-05-10T16:16:03.762536Z"
    },
    "id": "3TBByDj6z8FK"
   },
   "outputs": [],
   "source": [
    "w = df_e_annih_mu['y'].astype(float).round(3)\n",
    "w_dict = 1/w.value_counts()\n",
    "def weight_lookup(x):\n",
    "  x = np.round(x,3)\n",
    "  return w_dict[x]\n",
    "df_e_annih_mu['sample_weight']=df_e_annih_mu['y'].apply(lambda x: weight_lookup(x))"
   ]
  },
  {
   "cell_type": "code",
   "execution_count": null,
   "metadata": {
    "colab": {
     "base_uri": "https://localhost:8080/",
     "height": 370
    },
    "execution": {
     "iopub.execute_input": "2023-05-10T16:16:03.767762Z",
     "iopub.status.busy": "2023-05-10T16:16:03.767405Z",
     "iopub.status.idle": "2023-05-10T16:16:04.017198Z",
     "shell.execute_reply": "2023-05-10T16:16:04.015904Z"
    },
    "id": "Uv08_xTpxnjD",
    "outputId": "bff06949-053a-4ec3-cf35-23a28266e0de"
   },
   "outputs": [],
   "source": [
    "rep_df = df_e_annih_mu.sample(n=1000,weights=df_e_annih_mu['sample_weight'])\n",
    "#print(rep_df['y'])\n",
    "rep_df['y'].hist(bins=30)"
   ]
  }
 ],
 "metadata": {
  "colab": {
   "authorship_tag": "ABX9TyMS54AK90I3b+eaGxk52alP",
   "collapsed_sections": [],
   "include_colab_link": true,
   "name": "dataset_builder_v3.0.ipynb",
   "provenance": []
  },
  "kernelspec": {
   "display_name": "Python 3",
   "name": "python3"
  },
  "language_info": {
   "codemirror_mode": {
    "name": "ipython",
    "version": 3
   },
   "file_extension": ".py",
   "mimetype": "text/x-python",
   "name": "python",
   "nbconvert_exporter": "python",
   "pygments_lexer": "ipython3",
   "version": "3.9.12"
  }
 },
 "nbformat": 4,
 "nbformat_minor": 0
}
